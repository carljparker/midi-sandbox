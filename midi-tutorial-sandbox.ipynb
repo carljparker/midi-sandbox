{
 "cells": [
  {
   "cell_type": "markdown",
   "id": "advised-finger",
   "metadata": {},
   "source": [
    "The following code is derived from the tutorial at:\n",
    "\n",
    "https://www.twilio.com/blog/working-with-midi-data-in-python-using-mido"
   ]
  },
  {
   "cell_type": "code",
   "execution_count": 1,
   "id": "practical-authority",
   "metadata": {},
   "outputs": [],
   "source": [
    "from mido import MidiFile\n",
    "\n",
    "mid = MidiFile('VampireKillerCV1.mid', clip=True)"
   ]
  },
  {
   "cell_type": "code",
   "execution_count": 2,
   "id": "ethical-knitting",
   "metadata": {},
   "outputs": [
    {
     "data": {
      "text/plain": [
       "mido.midifiles.midifiles.MidiFile"
      ]
     },
     "execution_count": 2,
     "metadata": {},
     "output_type": "execute_result"
    }
   ],
   "source": [
    "type( mid )"
   ]
  },
  {
   "cell_type": "code",
   "execution_count": 3,
   "id": "signal-plastic",
   "metadata": {},
   "outputs": [
    {
     "name": "stdout",
     "output_type": "stream",
     "text": [
      "<midi file 'VampireKillerCV1.mid' type 1, 9 tracks, 4754 messages>\n"
     ]
    }
   ],
   "source": [
    "print(mid)"
   ]
  },
  {
   "cell_type": "code",
   "execution_count": 4,
   "id": "based-example",
   "metadata": {},
   "outputs": [
    {
     "name": "stdout",
     "output_type": "stream",
     "text": [
      "<midi track '' 5 messages>\n",
      "<midi track 'CV1- Vampire Killer' 7 messages>\n",
      "<midi track 'Staff-2' 635 messages>\n",
      "<midi track 'Staff-3' 659 messages>\n",
      "<midi track 'Staff-4' 728 messages>\n",
      "<midi track 'Staff-5' 635 messages>\n",
      "<midi track 'Staff-6' 659 messages>\n",
      "<midi track 'Staff-7' 1421 messages>\n",
      "<midi track 'Staff-1' 5 messages>\n"
     ]
    }
   ],
   "source": [
    "for track in mid.tracks:\n",
    "    print(track)"
   ]
  },
  {
   "cell_type": "code",
   "execution_count": 5,
   "id": "immediate-portuguese",
   "metadata": {},
   "outputs": [
    {
     "name": "stdout",
     "output_type": "stream",
     "text": [
      "<meta message time_signature numerator=4 denominator=4 clocks_per_click=24 notated_32nd_notes_per_beat=8 time=0>\n",
      "<meta message key_signature key='C' time=0>\n",
      "<meta message smpte_offset frame_rate=24 hours=33 minutes=0 seconds=0 frames=0 sub_frames=0 time=0>\n",
      "<meta message set_tempo tempo=468750 time=0>\n",
      "<meta message end_of_track time=0>\n"
     ]
    }
   ],
   "source": [
    "for msg in mid.tracks[0]:\n",
    "    print(msg)"
   ]
  },
  {
   "cell_type": "code",
   "execution_count": 6,
   "id": "established-hawaiian",
   "metadata": {},
   "outputs": [],
   "source": [
    "import os\n",
    "\n",
    "from mido import MidiFile\n",
    "\n",
    "\n",
    "cv1 = MidiFile('VampireKillerCV1.mid', clip=True)\n",
    "\n",
    "message_numbers = []\n",
    "duplicates = []\n",
    "\n",
    "for track in cv1.tracks:\n",
    "    if len(track) in message_numbers:\n",
    "        duplicates.append(track)\n",
    "    else:\n",
    "        message_numbers.append(len(track))\n",
    "\n",
    "for track in duplicates:\n",
    "    cv1.tracks.remove(track)\n",
    "\n",
    "cv1.save('new_song.mid')"
   ]
  },
  {
   "cell_type": "code",
   "execution_count": 6,
   "id": "precious-crossing",
   "metadata": {
    "lines_to_next_cell": 2
   },
   "outputs": [],
   "source": [
    "import os\n",
    "\n",
    "from mido import MidiFile\n",
    "\n",
    "\n",
    "cv1 = MidiFile('new_song.mid', clip=True)\n",
    "cv3 = MidiFile('VampireKillerCV3.mid', clip=True)\n",
    "\n",
    "del cv1.tracks[4]\n",
    "del cv1.tracks[4]\n",
    "\n",
    "cv1.tracks.append(cv3.tracks[4])\n",
    "cv1.tracks.append(cv3.tracks[5])\n",
    "\n",
    "cv1.save('mashup.mid')"
   ]
  }
 ],
 "metadata": {
  "jupytext": {
   "formats": "ipynb,py:percent,md"
  },
  "kernelspec": {
   "display_name": "Python [conda env:midi-data515] *",
   "language": "python",
   "name": "conda-env-midi-data515-py"
  },
  "language_info": {
   "codemirror_mode": {
    "name": "ipython",
    "version": 3
   },
   "file_extension": ".py",
   "mimetype": "text/x-python",
   "name": "python",
   "nbconvert_exporter": "python",
   "pygments_lexer": "ipython3",
   "version": "3.7.9"
  }
 },
 "nbformat": 4,
 "nbformat_minor": 5
}
